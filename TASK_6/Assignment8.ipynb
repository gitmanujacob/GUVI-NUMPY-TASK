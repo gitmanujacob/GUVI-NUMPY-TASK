{
  "cells": [
    {
      "cell_type": "markdown",
      "metadata": {
        "id": "Sqxvc-ZhQjAQ"
      },
      "source": [
        "# Assignment8"
      ]
    },
    {
      "cell_type": "code",
      "execution_count": 2,
      "metadata": {
        "collapsed": true,
        "id": "g86M2RuDQjAg"
      },
      "outputs": [],
      "source": [
        "import pandas as pd\n",
        "import matplotlib.pyplot as plt\n",
        "import numpy as np\n",
        "from sklearn.linear_model import LinearRegression"
      ]
    },
    {
      "cell_type": "markdown",
      "metadata": {
        "id": "ZVHeIuVmQjAn"
      },
      "source": [
        "# How Much is Your Car Worth?\n",
        "\n",
        "Data about the retail price of 2005 General Motors cars can be found in `car_data.csv`.\n",
        "\n",
        "The columns are:\n",
        "\n",
        "1. Price: suggested retail price of the used 2005 GM car in excellent condition.\n",
        "2. Mileage: number of miles the car has been driven\n",
        "3. Make: manufacturer of the car such as Saturn, Pontiac, and Chevrolet\n",
        "4. Model: specific models for each car manufacturer such as Ion, Vibe, Cavalier\n",
        "5. Trim (of car): specific type of car model such as SE Sedan 4D, Quad Coupe 2D          \n",
        "6. Type: body type such as sedan, coupe, etc.      \n",
        "7. Cylinder: number of cylinders in the engine        \n",
        "8. Liter: a more specific measure of engine size     \n",
        "9. Doors: number of doors           \n",
        "10. Cruise: indicator variable representing whether the car has cruise control (1 = cruise)\n",
        "11. Sound: indicator variable representing whether the car has upgraded speakers (1 = upgraded)\n",
        "12. Leather: indicator variable representing whether the car has leather seats (1 = leather)\n",
        "\n",
        "## Tasks, Part 1\n",
        "\n",
        "1. Find the linear regression equation for mileage vs price.\n",
        "2. Chart the original data and the equation on the chart.\n",
        "3. Find the equation's $R^2$ score (use the `.score` method) to determine whether the\n",
        "equation is a good fit for this data. (0.8 and greater is considered a strong correlation.)\n",
        "\n",
        "## Tasks, Part 2\n",
        "\n",
        "1. Use mileage, cylinders, liters, doors, cruise, sound, and leather to find the linear regression equation.\n",
        "2. Find the equation's $R^2$ score (use the `.score` method) to determine whether the\n",
        "equation is a good fit for this data. (0.8 and greater is considered a strong correlation.)\n",
        "3. Find the combination of the factors that is the best predictor for price.\n",
        "\n",
        "## Tasks, Hard Mode\n",
        "\n",
        "1. Research dummy variables in scikit-learn to see how to use the make, model, and body type.\n",
        "2. Find the best combination of factors to predict price."
      ]
    },
    {
      "cell_type": "code",
      "execution_count": 3,
      "metadata": {
        "id": "_kNneiO-QjAv"
      },
      "outputs": [],
      "source": [
        "df = pd.read_csv(\"/content/drive/MyDrive/Copy of car_data.csv\")"
      ]
    },
    {
      "cell_type": "code",
      "source": [
        "df"
      ],
      "metadata": {
        "id": "i14cl4bPsBzD",
        "colab": {
          "base_uri": "https://localhost:8080/",
          "height": 424
        },
        "outputId": "5395b90f-8af9-4c08-a6d8-2d3c082fde15"
      },
      "execution_count": 4,
      "outputs": [
        {
          "output_type": "execute_result",
          "data": {
            "text/plain": [
              "            Price  Mileage    Make     Model           Trim   Type  Cylinder  \\\n",
              "0    17314.103129     8221   Buick   Century       Sedan 4D  Sedan         6   \n",
              "1    17542.036083     9135   Buick   Century       Sedan 4D  Sedan         6   \n",
              "2    16218.847862    13196   Buick   Century       Sedan 4D  Sedan         6   \n",
              "3    16336.913140    16342   Buick   Century       Sedan 4D  Sedan         6   \n",
              "4    16339.170324    19832   Buick   Century       Sedan 4D  Sedan         6   \n",
              "..            ...      ...     ...       ...            ...    ...       ...   \n",
              "799  16507.070267    16229  Saturn  L Series  L300 Sedan 4D  Sedan         6   \n",
              "800  16175.957604    19095  Saturn  L Series  L300 Sedan 4D  Sedan         6   \n",
              "801  15731.132897    20484  Saturn  L Series  L300 Sedan 4D  Sedan         6   \n",
              "802  15118.893228    25979  Saturn  L Series  L300 Sedan 4D  Sedan         6   \n",
              "803  13585.636802    35662  Saturn  L Series  L300 Sedan 4D  Sedan         6   \n",
              "\n",
              "     Liter  Doors  Cruise  Sound  Leather  \n",
              "0      3.1      4       1      1        1  \n",
              "1      3.1      4       1      1        0  \n",
              "2      3.1      4       1      1        0  \n",
              "3      3.1      4       1      0        0  \n",
              "4      3.1      4       1      0        1  \n",
              "..     ...    ...     ...    ...      ...  \n",
              "799    3.0      4       1      0        0  \n",
              "800    3.0      4       1      1        0  \n",
              "801    3.0      4       1      1        0  \n",
              "802    3.0      4       1      1        0  \n",
              "803    3.0      4       1      0        0  \n",
              "\n",
              "[804 rows x 12 columns]"
            ],
            "text/html": [
              "\n",
              "  <div id=\"df-96287a14-212a-448d-946c-4a923594b5f0\">\n",
              "    <div class=\"colab-df-container\">\n",
              "      <div>\n",
              "<style scoped>\n",
              "    .dataframe tbody tr th:only-of-type {\n",
              "        vertical-align: middle;\n",
              "    }\n",
              "\n",
              "    .dataframe tbody tr th {\n",
              "        vertical-align: top;\n",
              "    }\n",
              "\n",
              "    .dataframe thead th {\n",
              "        text-align: right;\n",
              "    }\n",
              "</style>\n",
              "<table border=\"1\" class=\"dataframe\">\n",
              "  <thead>\n",
              "    <tr style=\"text-align: right;\">\n",
              "      <th></th>\n",
              "      <th>Price</th>\n",
              "      <th>Mileage</th>\n",
              "      <th>Make</th>\n",
              "      <th>Model</th>\n",
              "      <th>Trim</th>\n",
              "      <th>Type</th>\n",
              "      <th>Cylinder</th>\n",
              "      <th>Liter</th>\n",
              "      <th>Doors</th>\n",
              "      <th>Cruise</th>\n",
              "      <th>Sound</th>\n",
              "      <th>Leather</th>\n",
              "    </tr>\n",
              "  </thead>\n",
              "  <tbody>\n",
              "    <tr>\n",
              "      <th>0</th>\n",
              "      <td>17314.103129</td>\n",
              "      <td>8221</td>\n",
              "      <td>Buick</td>\n",
              "      <td>Century</td>\n",
              "      <td>Sedan 4D</td>\n",
              "      <td>Sedan</td>\n",
              "      <td>6</td>\n",
              "      <td>3.1</td>\n",
              "      <td>4</td>\n",
              "      <td>1</td>\n",
              "      <td>1</td>\n",
              "      <td>1</td>\n",
              "    </tr>\n",
              "    <tr>\n",
              "      <th>1</th>\n",
              "      <td>17542.036083</td>\n",
              "      <td>9135</td>\n",
              "      <td>Buick</td>\n",
              "      <td>Century</td>\n",
              "      <td>Sedan 4D</td>\n",
              "      <td>Sedan</td>\n",
              "      <td>6</td>\n",
              "      <td>3.1</td>\n",
              "      <td>4</td>\n",
              "      <td>1</td>\n",
              "      <td>1</td>\n",
              "      <td>0</td>\n",
              "    </tr>\n",
              "    <tr>\n",
              "      <th>2</th>\n",
              "      <td>16218.847862</td>\n",
              "      <td>13196</td>\n",
              "      <td>Buick</td>\n",
              "      <td>Century</td>\n",
              "      <td>Sedan 4D</td>\n",
              "      <td>Sedan</td>\n",
              "      <td>6</td>\n",
              "      <td>3.1</td>\n",
              "      <td>4</td>\n",
              "      <td>1</td>\n",
              "      <td>1</td>\n",
              "      <td>0</td>\n",
              "    </tr>\n",
              "    <tr>\n",
              "      <th>3</th>\n",
              "      <td>16336.913140</td>\n",
              "      <td>16342</td>\n",
              "      <td>Buick</td>\n",
              "      <td>Century</td>\n",
              "      <td>Sedan 4D</td>\n",
              "      <td>Sedan</td>\n",
              "      <td>6</td>\n",
              "      <td>3.1</td>\n",
              "      <td>4</td>\n",
              "      <td>1</td>\n",
              "      <td>0</td>\n",
              "      <td>0</td>\n",
              "    </tr>\n",
              "    <tr>\n",
              "      <th>4</th>\n",
              "      <td>16339.170324</td>\n",
              "      <td>19832</td>\n",
              "      <td>Buick</td>\n",
              "      <td>Century</td>\n",
              "      <td>Sedan 4D</td>\n",
              "      <td>Sedan</td>\n",
              "      <td>6</td>\n",
              "      <td>3.1</td>\n",
              "      <td>4</td>\n",
              "      <td>1</td>\n",
              "      <td>0</td>\n",
              "      <td>1</td>\n",
              "    </tr>\n",
              "    <tr>\n",
              "      <th>...</th>\n",
              "      <td>...</td>\n",
              "      <td>...</td>\n",
              "      <td>...</td>\n",
              "      <td>...</td>\n",
              "      <td>...</td>\n",
              "      <td>...</td>\n",
              "      <td>...</td>\n",
              "      <td>...</td>\n",
              "      <td>...</td>\n",
              "      <td>...</td>\n",
              "      <td>...</td>\n",
              "      <td>...</td>\n",
              "    </tr>\n",
              "    <tr>\n",
              "      <th>799</th>\n",
              "      <td>16507.070267</td>\n",
              "      <td>16229</td>\n",
              "      <td>Saturn</td>\n",
              "      <td>L Series</td>\n",
              "      <td>L300 Sedan 4D</td>\n",
              "      <td>Sedan</td>\n",
              "      <td>6</td>\n",
              "      <td>3.0</td>\n",
              "      <td>4</td>\n",
              "      <td>1</td>\n",
              "      <td>0</td>\n",
              "      <td>0</td>\n",
              "    </tr>\n",
              "    <tr>\n",
              "      <th>800</th>\n",
              "      <td>16175.957604</td>\n",
              "      <td>19095</td>\n",
              "      <td>Saturn</td>\n",
              "      <td>L Series</td>\n",
              "      <td>L300 Sedan 4D</td>\n",
              "      <td>Sedan</td>\n",
              "      <td>6</td>\n",
              "      <td>3.0</td>\n",
              "      <td>4</td>\n",
              "      <td>1</td>\n",
              "      <td>1</td>\n",
              "      <td>0</td>\n",
              "    </tr>\n",
              "    <tr>\n",
              "      <th>801</th>\n",
              "      <td>15731.132897</td>\n",
              "      <td>20484</td>\n",
              "      <td>Saturn</td>\n",
              "      <td>L Series</td>\n",
              "      <td>L300 Sedan 4D</td>\n",
              "      <td>Sedan</td>\n",
              "      <td>6</td>\n",
              "      <td>3.0</td>\n",
              "      <td>4</td>\n",
              "      <td>1</td>\n",
              "      <td>1</td>\n",
              "      <td>0</td>\n",
              "    </tr>\n",
              "    <tr>\n",
              "      <th>802</th>\n",
              "      <td>15118.893228</td>\n",
              "      <td>25979</td>\n",
              "      <td>Saturn</td>\n",
              "      <td>L Series</td>\n",
              "      <td>L300 Sedan 4D</td>\n",
              "      <td>Sedan</td>\n",
              "      <td>6</td>\n",
              "      <td>3.0</td>\n",
              "      <td>4</td>\n",
              "      <td>1</td>\n",
              "      <td>1</td>\n",
              "      <td>0</td>\n",
              "    </tr>\n",
              "    <tr>\n",
              "      <th>803</th>\n",
              "      <td>13585.636802</td>\n",
              "      <td>35662</td>\n",
              "      <td>Saturn</td>\n",
              "      <td>L Series</td>\n",
              "      <td>L300 Sedan 4D</td>\n",
              "      <td>Sedan</td>\n",
              "      <td>6</td>\n",
              "      <td>3.0</td>\n",
              "      <td>4</td>\n",
              "      <td>1</td>\n",
              "      <td>0</td>\n",
              "      <td>0</td>\n",
              "    </tr>\n",
              "  </tbody>\n",
              "</table>\n",
              "<p>804 rows × 12 columns</p>\n",
              "</div>\n",
              "      <button class=\"colab-df-convert\" onclick=\"convertToInteractive('df-96287a14-212a-448d-946c-4a923594b5f0')\"\n",
              "              title=\"Convert this dataframe to an interactive table.\"\n",
              "              style=\"display:none;\">\n",
              "        \n",
              "  <svg xmlns=\"http://www.w3.org/2000/svg\" height=\"24px\"viewBox=\"0 0 24 24\"\n",
              "       width=\"24px\">\n",
              "    <path d=\"M0 0h24v24H0V0z\" fill=\"none\"/>\n",
              "    <path d=\"M18.56 5.44l.94 2.06.94-2.06 2.06-.94-2.06-.94-.94-2.06-.94 2.06-2.06.94zm-11 1L8.5 8.5l.94-2.06 2.06-.94-2.06-.94L8.5 2.5l-.94 2.06-2.06.94zm10 10l.94 2.06.94-2.06 2.06-.94-2.06-.94-.94-2.06-.94 2.06-2.06.94z\"/><path d=\"M17.41 7.96l-1.37-1.37c-.4-.4-.92-.59-1.43-.59-.52 0-1.04.2-1.43.59L10.3 9.45l-7.72 7.72c-.78.78-.78 2.05 0 2.83L4 21.41c.39.39.9.59 1.41.59.51 0 1.02-.2 1.41-.59l7.78-7.78 2.81-2.81c.8-.78.8-2.07 0-2.86zM5.41 20L4 18.59l7.72-7.72 1.47 1.35L5.41 20z\"/>\n",
              "  </svg>\n",
              "      </button>\n",
              "      \n",
              "  <style>\n",
              "    .colab-df-container {\n",
              "      display:flex;\n",
              "      flex-wrap:wrap;\n",
              "      gap: 12px;\n",
              "    }\n",
              "\n",
              "    .colab-df-convert {\n",
              "      background-color: #E8F0FE;\n",
              "      border: none;\n",
              "      border-radius: 50%;\n",
              "      cursor: pointer;\n",
              "      display: none;\n",
              "      fill: #1967D2;\n",
              "      height: 32px;\n",
              "      padding: 0 0 0 0;\n",
              "      width: 32px;\n",
              "    }\n",
              "\n",
              "    .colab-df-convert:hover {\n",
              "      background-color: #E2EBFA;\n",
              "      box-shadow: 0px 1px 2px rgba(60, 64, 67, 0.3), 0px 1px 3px 1px rgba(60, 64, 67, 0.15);\n",
              "      fill: #174EA6;\n",
              "    }\n",
              "\n",
              "    [theme=dark] .colab-df-convert {\n",
              "      background-color: #3B4455;\n",
              "      fill: #D2E3FC;\n",
              "    }\n",
              "\n",
              "    [theme=dark] .colab-df-convert:hover {\n",
              "      background-color: #434B5C;\n",
              "      box-shadow: 0px 1px 3px 1px rgba(0, 0, 0, 0.15);\n",
              "      filter: drop-shadow(0px 1px 2px rgba(0, 0, 0, 0.3));\n",
              "      fill: #FFFFFF;\n",
              "    }\n",
              "  </style>\n",
              "\n",
              "      <script>\n",
              "        const buttonEl =\n",
              "          document.querySelector('#df-96287a14-212a-448d-946c-4a923594b5f0 button.colab-df-convert');\n",
              "        buttonEl.style.display =\n",
              "          google.colab.kernel.accessAllowed ? 'block' : 'none';\n",
              "\n",
              "        async function convertToInteractive(key) {\n",
              "          const element = document.querySelector('#df-96287a14-212a-448d-946c-4a923594b5f0');\n",
              "          const dataTable =\n",
              "            await google.colab.kernel.invokeFunction('convertToInteractive',\n",
              "                                                     [key], {});\n",
              "          if (!dataTable) return;\n",
              "\n",
              "          const docLinkHtml = 'Like what you see? Visit the ' +\n",
              "            '<a target=\"_blank\" href=https://colab.research.google.com/notebooks/data_table.ipynb>data table notebook</a>'\n",
              "            + ' to learn more about interactive tables.';\n",
              "          element.innerHTML = '';\n",
              "          dataTable['output_type'] = 'display_data';\n",
              "          await google.colab.output.renderOutput(dataTable, element);\n",
              "          const docLink = document.createElement('div');\n",
              "          docLink.innerHTML = docLinkHtml;\n",
              "          element.appendChild(docLink);\n",
              "        }\n",
              "      </script>\n",
              "    </div>\n",
              "  </div>\n",
              "  "
            ]
          },
          "metadata": {},
          "execution_count": 4
        }
      ]
    },
    {
      "cell_type": "code",
      "source": [
        "df.dtypes"
      ],
      "metadata": {
        "id": "N4sgKm3RwQq0",
        "colab": {
          "base_uri": "https://localhost:8080/"
        },
        "outputId": "47092a39-7ca5-4fee-a688-1b1711ca08ff"
      },
      "execution_count": 5,
      "outputs": [
        {
          "output_type": "execute_result",
          "data": {
            "text/plain": [
              "Price       float64\n",
              "Mileage       int64\n",
              "Make         object\n",
              "Model        object\n",
              "Trim         object\n",
              "Type         object\n",
              "Cylinder      int64\n",
              "Liter       float64\n",
              "Doors         int64\n",
              "Cruise        int64\n",
              "Sound         int64\n",
              "Leather       int64\n",
              "dtype: object"
            ]
          },
          "metadata": {},
          "execution_count": 5
        }
      ]
    },
    {
      "cell_type": "code",
      "source": [
        "df['Price']=df['Price']"
      ],
      "metadata": {
        "id": "P42l9fXOwUb8"
      },
      "execution_count": 6,
      "outputs": []
    },
    {
      "cell_type": "markdown",
      "source": [
        "#Tasks, Part 1"
      ],
      "metadata": {
        "id": "HpZbXpIIv7HL"
      }
    },
    {
      "cell_type": "markdown",
      "source": [
        "1. Find the linear regression equation for mileage vs price."
      ],
      "metadata": {
        "id": "Krvo1PeMwAjg"
      }
    },
    {
      "cell_type": "code",
      "source": [
        "x=df[['Mileage']]\n",
        "y=df['Price']"
      ],
      "metadata": {
        "id": "eeAhwz2dv9Dw"
      },
      "execution_count": 7,
      "outputs": []
    },
    {
      "cell_type": "code",
      "source": [
        "#split  train and test data\n",
        "\n",
        "from sklearn.model_selection import train_test_split\n",
        "x_train,x_test,y_train,y_test = train_test_split(x,y,test_size=0.3,random_state=0)"
      ],
      "metadata": {
        "id": "Ro9N3mK9VIcp"
      },
      "execution_count": 8,
      "outputs": []
    },
    {
      "cell_type": "code",
      "source": [
        "#Linear regression model\n",
        "\n",
        "model = LinearRegression().fit(x_train, y_train)\n",
        "\n",
        "#model parameters\n",
        "\n",
        "print(\"The equation of linear regresssion is : \\t\",*model.coef_,' x +',model.intercept_)"
      ],
      "metadata": {
        "id": "YXk_7PrrWiEs",
        "colab": {
          "base_uri": "https://localhost:8080/"
        },
        "outputId": "8227f440-a782-472c-fa24-883d29ab0c49"
      },
      "execution_count": 9,
      "outputs": [
        {
          "output_type": "stream",
          "name": "stdout",
          "text": [
            "The equation of linear regresssion is : \t -0.20364911194771423  x + 25581.391535102055\n"
          ]
        }
      ]
    },
    {
      "cell_type": "markdown",
      "source": [
        "2. Chart the original data and the equation on the chart."
      ],
      "metadata": {
        "id": "jcpoeaOhxI4S"
      }
    },
    {
      "cell_type": "code",
      "source": [
        "#plot \n",
        "\n",
        "plt.plot(x,y,'o')\n",
        "plt.plot(x,model.predict(x))"
      ],
      "metadata": {
        "id": "wNmlnaYqxNyY",
        "colab": {
          "base_uri": "https://localhost:8080/",
          "height": 282
        },
        "outputId": "782682a6-a38b-4d2b-ce9e-b1a828cfda72"
      },
      "execution_count": 10,
      "outputs": [
        {
          "output_type": "execute_result",
          "data": {
            "text/plain": [
              "[<matplotlib.lines.Line2D at 0x7f3f5c4cf910>]"
            ]
          },
          "metadata": {},
          "execution_count": 10
        },
        {
          "output_type": "display_data",
          "data": {
            "text/plain": [
              "<Figure size 432x288 with 1 Axes>"
            ],
            "image/png": "[encoded data removed]"
          },
          "metadata": {
            "needs_background": "light"
          }
        }
      ]
    },
    {
      "cell_type": "markdown",
      "source": [
        "3. Find the equation's  R2  score (use the .score method) to determine whether the equation is a good fit for this data. (0.8 and greater is considered a strong correlation.)"
      ],
      "metadata": {
        "id": "6NcunNM3y55Q"
      }
    },
    {
      "cell_type": "code",
      "source": [
        "#model score\n",
        "\n",
        "score=model.score(x,y)\n",
        "print(f'The model score is : \\t {score}')\n",
        "if score<0.8:\n",
        "  print('Equation is not a good fit.')\n",
        "else:\n",
        "  print('Equation is a good fit.')"
      ],
      "metadata": {
        "id": "fE64OSYNxQmp",
        "colab": {
          "base_uri": "https://localhost:8080/"
        },
        "outputId": "c2c1d98a-8062-48ef-85f8-a3d8272b333b"
      },
      "execution_count": 11,
      "outputs": [
        {
          "output_type": "stream",
          "name": "stdout",
          "text": [
            "The model score is : \t 0.019389425029912588\n",
            "Equation is not a good fit.\n"
          ]
        }
      ]
    },
    {
      "cell_type": "markdown",
      "source": [
        "#Tasks, Part 2"
      ],
      "metadata": {
        "id": "L_wiVS3i0Bey"
      }
    },
    {
      "cell_type": "markdown",
      "source": [
        "1. Use mileage, cylinders, liters, doors, cruise, sound, and leather to find the linear regression equation."
      ],
      "metadata": {
        "id": "wkBYSllX0KGV"
      }
    },
    {
      "cell_type": "code",
      "source": [
        "df.columns"
      ],
      "metadata": {
        "id": "P0VTdaZt1XVn",
        "colab": {
          "base_uri": "https://localhost:8080/"
        },
        "outputId": "f352efc0-bf82-4883-ac7c-9fa8897303ae"
      },
      "execution_count": 12,
      "outputs": [
        {
          "output_type": "execute_result",
          "data": {
            "text/plain": [
              "Index(['Price', 'Mileage', 'Make', 'Model', 'Trim', 'Type', 'Cylinder',\n",
              "       'Liter', 'Doors', 'Cruise', 'Sound', 'Leather'],\n",
              "      dtype='object')"
            ]
          },
          "metadata": {},
          "execution_count": 12
        }
      ]
    },
    {
      "cell_type": "code",
      "source": [
        "x=df[['Mileage','Cylinder','Liter','Doors','Cruise','Sound','Leather']]\n",
        "y=df['Price']"
      ],
      "metadata": {
        "id": "G4x5E9Cp0XOD"
      },
      "execution_count": 13,
      "outputs": []
    },
    {
      "cell_type": "code",
      "source": [
        "#split  train and test data\n",
        "\n",
        "from sklearn.model_selection import train_test_split\n",
        "x_train,x_test,y_train,y_test = train_test_split(x,y,test_size=0.3,random_state=0)"
      ],
      "metadata": {
        "id": "LAZd8vaM0XOD"
      },
      "execution_count": 14,
      "outputs": []
    },
    {
      "cell_type": "code",
      "source": [
        "#Regression Equation\n",
        "\n",
        "from sklearn.model_selection import train_test_split\n",
        "names=['Mileage','Cylinder','Liter','Doors','Cruise','Sound','Leather']\n",
        "for i in range(len(names)):\n",
        "  x=df[[names[i]]]\n",
        "  y=df[\"Price\"]\n",
        "  x_train,x_test,y_train,y_test = train_test_split(x,y,test_size=0.2,random_state=2)\n",
        "  model = LinearRegression().fit(x_train, y_train)\n",
        "  print(f\"The equation of linear regresssion for {names[i]} is : \\t\",*model.coef_,' x +',model.intercept_)"
      ],
      "metadata": {
        "id": "u9UXGmtH0XOE",
        "colab": {
          "base_uri": "https://localhost:8080/"
        },
        "outputId": "59d241fe-93dd-4ef0-fdfd-101ee852abe9"
      },
      "execution_count": 15,
      "outputs": [
        {
          "output_type": "stream",
          "name": "stdout",
          "text": [
            "The equation of linear regresssion for Mileage is : \t -0.1744268415361204  x + 24978.087943612354\n",
            "The equation of linear regresssion for Cylinder is : \t 4142.785178781943  x + -353.67987053523393\n",
            "The equation of linear regresssion for Liter is : \t 4995.751102352382  x + 6296.751165720343\n",
            "The equation of linear regresssion for Doors is : \t -2041.8062104701542  x + 28709.25032421899\n",
            "The equation of linear regresssion for Cruise is : \t 10100.147397786744  x + 13986.643171775559\n",
            "The equation of linear regresssion for Sound is : \t -1934.1262224004788  x + 22819.839169551364\n",
            "The equation of linear regresssion for Leather is : \t 3329.1111191315385  x + 19118.889020207087\n"
          ]
        }
      ]
    },
    {
      "cell_type": "markdown",
      "source": [
        "2. \n",
        "Find the equation's  R2  score (use the .score method) to determine whether the equation is a good fit for this data. (0.8 and greater is considered a strong correlation.)"
      ],
      "metadata": {
        "id": "cpYy8hPv0M7g"
      }
    },
    {
      "cell_type": "code",
      "source": [
        "#model score\n",
        "\n",
        "from sklearn.model_selection import train_test_split\n",
        "names=names=['Mileage','Cylinder','Liter','Doors','Cruise','Sound','Leather']\n",
        "for i in range(len(names)):\n",
        "  x=df[[names[i]]]\n",
        "  y=df[\"Price\"]\n",
        "  x_train,x_test,y_train,y_test = train_test_split(x,y,test_size=0.2,random_state=2)\n",
        "  model = LinearRegression().fit(x_train, y_train)\n",
        "  score=model.score(x,y)*100\n",
        "  print(f\"The model score for {names[i]} is : \\t\",score)"
      ],
      "metadata": {
        "id": "nPiQ2aIb0Thu",
        "colab": {
          "base_uri": "https://localhost:8080/"
        },
        "outputId": "0373bcb9-06b2-4299-8298-df9f54ebdd86"
      },
      "execution_count": 16,
      "outputs": [
        {
          "output_type": "stream",
          "name": "stdout",
          "text": [
            "The model score for Mileage is : \t 2.0144535149309584\n",
            "The model score for Cylinder is : \t 32.35310120780881\n",
            "The model score for Liter is : \t 31.136040833343024\n",
            "The model score for Doors is : \t 1.7617455737110488\n",
            "The model score for Cruise is : \t 18.491632173245986\n",
            "The model score for Sound is : \t 1.410367586408967\n",
            "The model score for Leather is : \t 2.4315099706046395\n"
          ]
        }
      ]
    },
    {
      "cell_type": "markdown",
      "source": [
        "3. Find the combination of the factors that is the best predictor for price."
      ],
      "metadata": {
        "id": "rKd5_goV0Poo"
      }
    },
    {
      "cell_type": "code",
      "source": [
        "x=df[['Mileage','Cylinder','Liter','Doors','Cruise','Sound','Leather']]\n",
        "y=df['Price']\n",
        "x_train,x_test,y_train,y_test = train_test_split(x,y,test_size=0.2,random_state=2)\n",
        "model = LinearRegression().fit(x_train, y_train)\n",
        "score=model.score(x,y)*100\n",
        "score"
      ],
      "metadata": {
        "id": "LEnw_unE0SzU",
        "colab": {
          "base_uri": "https://localhost:8080/"
        },
        "outputId": "b4c4aad8-7253-495f-8e3a-76db13f366a1"
      },
      "execution_count": 17,
      "outputs": [
        {
          "output_type": "execute_result",
          "data": {
            "text/plain": [
              "44.495764645451985"
            ]
          },
          "metadata": {},
          "execution_count": 17
        }
      ]
    },
    {
      "cell_type": "markdown",
      "source": [
        "- Best combination is using all the seven features."
      ],
      "metadata": {
        "id": "XZmr3_aE7v0J"
      }
    },
    {
      "cell_type": "markdown",
      "source": [
        "- Indivisually the best features are cylinder, liter and cruise."
      ],
      "metadata": {
        "id": "2Hwggl3673Li"
      }
    },
    {
      "cell_type": "markdown",
      "source": [
        "#Tasks, Hard Mode\n"
      ],
      "metadata": {
        "id": "9fsh0Av28Gpw"
      }
    },
    {
      "cell_type": "markdown",
      "source": [
        "1. Research dummy variables in scikit-learn to see how to use the make, model, and body type."
      ],
      "metadata": {
        "id": "-afBjmdl8OWs"
      }
    },
    {
      "cell_type": "code",
      "source": [
        "dummy = pd.get_dummies(df[['Make','Model','Type']])"
      ],
      "metadata": {
        "id": "Q4XeT-QI8SX_"
      },
      "execution_count": 18,
      "outputs": []
    },
    {
      "cell_type": "code",
      "source": [
        "dummy.columns"
      ],
      "metadata": {
        "id": "1yD9zgSf8gyX",
        "colab": {
          "base_uri": "https://localhost:8080/"
        },
        "outputId": "94c1000c-3da4-466d-f6f1-8e5b4635bc40"
      },
      "execution_count": 19,
      "outputs": [
        {
          "output_type": "execute_result",
          "data": {
            "text/plain": [
              "Index(['Make_Buick', 'Make_Cadillac', 'Make_Chevrolet', 'Make_Pontiac',\n",
              "       'Make_SAAB', 'Make_Saturn', 'Model_9-2X AWD', 'Model_9_3',\n",
              "       'Model_9_3 HO', 'Model_9_5', 'Model_9_5 HO', 'Model_AVEO',\n",
              "       'Model_Bonneville', 'Model_CST-V', 'Model_CTS', 'Model_Cavalier',\n",
              "       'Model_Century', 'Model_Classic', 'Model_Cobalt', 'Model_Corvette',\n",
              "       'Model_Deville', 'Model_G6', 'Model_GTO', 'Model_Grand Am',\n",
              "       'Model_Grand Prix', 'Model_Impala', 'Model_Ion', 'Model_L Series',\n",
              "       'Model_Lacrosse', 'Model_Lesabre', 'Model_Malibu', 'Model_Monte Carlo',\n",
              "       'Model_Park Avenue', 'Model_STS-V6', 'Model_STS-V8', 'Model_Sunfire',\n",
              "       'Model_Vibe', 'Model_XLR-V8', 'Type_Convertible', 'Type_Coupe',\n",
              "       'Type_Hatchback', 'Type_Sedan', 'Type_Wagon'],\n",
              "      dtype='object')"
            ]
          },
          "metadata": {},
          "execution_count": 19
        }
      ]
    },
    {
      "cell_type": "code",
      "source": [
        "dummy"
      ],
      "metadata": {
        "id": "r5HZ4l_B8nGr",
        "colab": {
          "base_uri": "https://localhost:8080/",
          "height": 505
        },
        "outputId": "12bfdda2-46a9-44b6-d26c-a146acd11d4b"
      },
      "execution_count": 20,
      "outputs": [
        {
          "output_type": "execute_result",
          "data": {
            "text/plain": [
              "     Make_Buick  Make_Cadillac  Make_Chevrolet  Make_Pontiac  Make_SAAB  \\\n",
              "0             1              0               0             0          0   \n",
              "1             1              0               0             0          0   \n",
              "2             1              0               0             0          0   \n",
              "3             1              0               0             0          0   \n",
              "4             1              0               0             0          0   \n",
              "..          ...            ...             ...           ...        ...   \n",
              "799           0              0               0             0          0   \n",
              "800           0              0               0             0          0   \n",
              "801           0              0               0             0          0   \n",
              "802           0              0               0             0          0   \n",
              "803           0              0               0             0          0   \n",
              "\n",
              "     Make_Saturn  Model_9-2X AWD  Model_9_3  Model_9_3 HO  Model_9_5  ...  \\\n",
              "0              0               0          0             0          0  ...   \n",
              "1              0               0          0             0          0  ...   \n",
              "2              0               0          0             0          0  ...   \n",
              "3              0               0          0             0          0  ...   \n",
              "4              0               0          0             0          0  ...   \n",
              "..           ...             ...        ...           ...        ...  ...   \n",
              "799            1               0          0             0          0  ...   \n",
              "800            1               0          0             0          0  ...   \n",
              "801            1               0          0             0          0  ...   \n",
              "802            1               0          0             0          0  ...   \n",
              "803            1               0          0             0          0  ...   \n",
              "\n",
              "     Model_STS-V6  Model_STS-V8  Model_Sunfire  Model_Vibe  Model_XLR-V8  \\\n",
              "0               0             0              0           0             0   \n",
              "1               0             0              0           0             0   \n",
              "2               0             0              0           0             0   \n",
              "3               0             0              0           0             0   \n",
              "4               0             0              0           0             0   \n",
              "..            ...           ...            ...         ...           ...   \n",
              "799             0             0              0           0             0   \n",
              "800             0             0              0           0             0   \n",
              "801             0             0              0           0             0   \n",
              "802             0             0              0           0             0   \n",
              "803             0             0              0           0             0   \n",
              "\n",
              "     Type_Convertible  Type_Coupe  Type_Hatchback  Type_Sedan  Type_Wagon  \n",
              "0                   0           0               0           1           0  \n",
              "1                   0           0               0           1           0  \n",
              "2                   0           0               0           1           0  \n",
              "3                   0           0               0           1           0  \n",
              "4                   0           0               0           1           0  \n",
              "..                ...         ...             ...         ...         ...  \n",
              "799                 0           0               0           1           0  \n",
              "800                 0           0               0           1           0  \n",
              "801                 0           0               0           1           0  \n",
              "802                 0           0               0           1           0  \n",
              "803                 0           0               0           1           0  \n",
              "\n",
              "[804 rows x 43 columns]"
            ],
            "text/html": [
              "\n",
              "  <div id=\"df-6a0dc391-0469-4c6a-82f2-2474d5cd1649\">\n",
              "    <div class=\"colab-df-container\">\n",
              "      <div>\n",
              "<style scoped>\n",
              "    .dataframe tbody tr th:only-of-type {\n",
              "        vertical-align: middle;\n",
              "    }\n",
              "\n",
              "    .dataframe tbody tr th {\n",
              "        vertical-align: top;\n",
              "    }\n",
              "\n",
              "    .dataframe thead th {\n",
              "        text-align: right;\n",
              "    }\n",
              "</style>\n",
              "<table border=\"1\" class=\"dataframe\">\n",
              "  <thead>\n",
              "    <tr style=\"text-align: right;\">\n",
              "      <th></th>\n",
              "      <th>Make_Buick</th>\n",
              "      <th>Make_Cadillac</th>\n",
              "      <th>Make_Chevrolet</th>\n",
              "      <th>Make_Pontiac</th>\n",
              "      <th>Make_SAAB</th>\n",
              "      <th>Make_Saturn</th>\n",
              "      <th>Model_9-2X AWD</th>\n",
              "      <th>Model_9_3</th>\n",
              "      <th>Model_9_3 HO</th>\n",
              "      <th>Model_9_5</th>\n",
              "      <th>...</th>\n",
              "      <th>Model_STS-V6</th>\n",
              "      <th>Model_STS-V8</th>\n",
              "      <th>Model_Sunfire</th>\n",
              "      <th>Model_Vibe</th>\n",
              "      <th>Model_XLR-V8</th>\n",
              "      <th>Type_Convertible</th>\n",
              "      <th>Type_Coupe</th>\n",
              "      <th>Type_Hatchback</th>\n",
              "      <th>Type_Sedan</th>\n",
              "      <th>Type_Wagon</th>\n",
              "    </tr>\n",
              "  </thead>\n",
              "  <tbody>\n",
              "    <tr>\n",
              "      <th>0</th>\n",
              "      <td>1</td>\n",
              "      <td>0</td>\n",
              "      <td>0</td>\n",
              "      <td>0</td>\n",
              "      <td>0</td>\n",
              "      <td>0</td>\n",
              "      <td>0</td>\n",
              "      <td>0</td>\n",
              "      <td>0</td>\n",
              "      <td>0</td>\n",
              "      <td>...</td>\n",
              "      <td>0</td>\n",
              "      <td>0</td>\n",
              "      <td>0</td>\n",
              "      <td>0</td>\n",
              "      <td>0</td>\n",
              "      <td>0</td>\n",
              "      <td>0</td>\n",
              "      <td>0</td>\n",
              "      <td>1</td>\n",
              "      <td>0</td>\n",
              "    </tr>\n",
              "    <tr>\n",
              "      <th>1</th>\n",
              "      <td>1</td>\n",
              "      <td>0</td>\n",
              "      <td>0</td>\n",
              "      <td>0</td>\n",
              "      <td>0</td>\n",
              "      <td>0</td>\n",
              "      <td>0</td>\n",
              "      <td>0</td>\n",
              "      <td>0</td>\n",
              "      <td>0</td>\n",
              "      <td>...</td>\n",
              "      <td>0</td>\n",
              "      <td>0</td>\n",
              "      <td>0</td>\n",
              "      <td>0</td>\n",
              "      <td>0</td>\n",
              "      <td>0</td>\n",
              "      <td>0</td>\n",
              "      <td>0</td>\n",
              "      <td>1</td>\n",
              "      <td>0</td>\n",
              "    </tr>\n",
              "    <tr>\n",
              "      <th>2</th>\n",
              "      <td>1</td>\n",
              "      <td>0</td>\n",
              "      <td>0</td>\n",
              "      <td>0</td>\n",
              "      <td>0</td>\n",
              "      <td>0</td>\n",
              "      <td>0</td>\n",
              "      <td>0</td>\n",
              "      <td>0</td>\n",
              "      <td>0</td>\n",
              "      <td>...</td>\n",
              "      <td>0</td>\n",
              "      <td>0</td>\n",
              "      <td>0</td>\n",
              "      <td>0</td>\n",
              "      <td>0</td>\n",
              "      <td>0</td>\n",
              "      <td>0</td>\n",
              "      <td>0</td>\n",
              "      <td>1</td>\n",
              "      <td>0</td>\n",
              "    </tr>\n",
              "    <tr>\n",
              "      <th>3</th>\n",
              "      <td>1</td>\n",
              "      <td>0</td>\n",
              "      <td>0</td>\n",
              "      <td>0</td>\n",
              "      <td>0</td>\n",
              "      <td>0</td>\n",
              "      <td>0</td>\n",
              "      <td>0</td>\n",
              "      <td>0</td>\n",
              "      <td>0</td>\n",
              "      <td>...</td>\n",
              "      <td>0</td>\n",
              "      <td>0</td>\n",
              "      <td>0</td>\n",
              "      <td>0</td>\n",
              "      <td>0</td>\n",
              "      <td>0</td>\n",
              "      <td>0</td>\n",
              "      <td>0</td>\n",
              "      <td>1</td>\n",
              "      <td>0</td>\n",
              "    </tr>\n",
              "    <tr>\n",
              "      <th>4</th>\n",
              "      <td>1</td>\n",
              "      <td>0</td>\n",
              "      <td>0</td>\n",
              "      <td>0</td>\n",
              "      <td>0</td>\n",
              "      <td>0</td>\n",
              "      <td>0</td>\n",
              "      <td>0</td>\n",
              "      <td>0</td>\n",
              "      <td>0</td>\n",
              "      <td>...</td>\n",
              "      <td>0</td>\n",
              "      <td>0</td>\n",
              "      <td>0</td>\n",
              "      <td>0</td>\n",
              "      <td>0</td>\n",
              "      <td>0</td>\n",
              "      <td>0</td>\n",
              "      <td>0</td>\n",
              "      <td>1</td>\n",
              "      <td>0</td>\n",
              "    </tr>\n",
              "    <tr>\n",
              "      <th>...</th>\n",
              "      <td>...</td>\n",
              "      <td>...</td>\n",
              "      <td>...</td>\n",
              "      <td>...</td>\n",
              "      <td>...</td>\n",
              "      <td>...</td>\n",
              "      <td>...</td>\n",
              "      <td>...</td>\n",
              "      <td>...</td>\n",
              "      <td>...</td>\n",
              "      <td>...</td>\n",
              "      <td>...</td>\n",
              "      <td>...</td>\n",
              "      <td>...</td>\n",
              "      <td>...</td>\n",
              "      <td>...</td>\n",
              "      <td>...</td>\n",
              "      <td>...</td>\n",
              "      <td>...</td>\n",
              "      <td>...</td>\n",
              "      <td>...</td>\n",
              "    </tr>\n",
              "    <tr>\n",
              "      <th>799</th>\n",
              "      <td>0</td>\n",
              "      <td>0</td>\n",
              "      <td>0</td>\n",
              "      <td>0</td>\n",
              "      <td>0</td>\n",
              "      <td>1</td>\n",
              "      <td>0</td>\n",
              "      <td>0</td>\n",
              "      <td>0</td>\n",
              "      <td>0</td>\n",
              "      <td>...</td>\n",
              "      <td>0</td>\n",
              "      <td>0</td>\n",
              "      <td>0</td>\n",
              "      <td>0</td>\n",
              "      <td>0</td>\n",
              "      <td>0</td>\n",
              "      <td>0</td>\n",
              "      <td>0</td>\n",
              "      <td>1</td>\n",
              "      <td>0</td>\n",
              "    </tr>\n",
              "    <tr>\n",
              "      <th>800</th>\n",
              "      <td>0</td>\n",
              "      <td>0</td>\n",
              "      <td>0</td>\n",
              "      <td>0</td>\n",
              "      <td>0</td>\n",
              "      <td>1</td>\n",
              "      <td>0</td>\n",
              "      <td>0</td>\n",
              "      <td>0</td>\n",
              "      <td>0</td>\n",
              "      <td>...</td>\n",
              "      <td>0</td>\n",
              "      <td>0</td>\n",
              "      <td>0</td>\n",
              "      <td>0</td>\n",
              "      <td>0</td>\n",
              "      <td>0</td>\n",
              "      <td>0</td>\n",
              "      <td>0</td>\n",
              "      <td>1</td>\n",
              "      <td>0</td>\n",
              "    </tr>\n",
              "    <tr>\n",
              "      <th>801</th>\n",
              "      <td>0</td>\n",
              "      <td>0</td>\n",
              "      <td>0</td>\n",
              "      <td>0</td>\n",
              "      <td>0</td>\n",
              "      <td>1</td>\n",
              "      <td>0</td>\n",
              "      <td>0</td>\n",
              "      <td>0</td>\n",
              "      <td>0</td>\n",
              "      <td>...</td>\n",
              "      <td>0</td>\n",
              "      <td>0</td>\n",
              "      <td>0</td>\n",
              "      <td>0</td>\n",
              "      <td>0</td>\n",
              "      <td>0</td>\n",
              "      <td>0</td>\n",
              "      <td>0</td>\n",
              "      <td>1</td>\n",
              "      <td>0</td>\n",
              "    </tr>\n",
              "    <tr>\n",
              "      <th>802</th>\n",
              "      <td>0</td>\n",
              "      <td>0</td>\n",
              "      <td>0</td>\n",
              "      <td>0</td>\n",
              "      <td>0</td>\n",
              "      <td>1</td>\n",
              "      <td>0</td>\n",
              "      <td>0</td>\n",
              "      <td>0</td>\n",
              "      <td>0</td>\n",
              "      <td>...</td>\n",
              "      <td>0</td>\n",
              "      <td>0</td>\n",
              "      <td>0</td>\n",
              "      <td>0</td>\n",
              "      <td>0</td>\n",
              "      <td>0</td>\n",
              "      <td>0</td>\n",
              "      <td>0</td>\n",
              "      <td>1</td>\n",
              "      <td>0</td>\n",
              "    </tr>\n",
              "    <tr>\n",
              "      <th>803</th>\n",
              "      <td>0</td>\n",
              "      <td>0</td>\n",
              "      <td>0</td>\n",
              "      <td>0</td>\n",
              "      <td>0</td>\n",
              "      <td>1</td>\n",
              "      <td>0</td>\n",
              "      <td>0</td>\n",
              "      <td>0</td>\n",
              "      <td>0</td>\n",
              "      <td>...</td>\n",
              "      <td>0</td>\n",
              "      <td>0</td>\n",
              "      <td>0</td>\n",
              "      <td>0</td>\n",
              "      <td>0</td>\n",
              "      <td>0</td>\n",
              "      <td>0</td>\n",
              "      <td>0</td>\n",
              "      <td>1</td>\n",
              "      <td>0</td>\n",
              "    </tr>\n",
              "  </tbody>\n",
              "</table>\n",
              "<p>804 rows × 43 columns</p>\n",
              "</div>\n",
              "      <button class=\"colab-df-convert\" onclick=\"convertToInteractive('df-6a0dc391-0469-4c6a-82f2-2474d5cd1649')\"\n",
              "              title=\"Convert this dataframe to an interactive table.\"\n",
              "              style=\"display:none;\">\n",
              "        \n",
              "  <svg xmlns=\"http://www.w3.org/2000/svg\" height=\"24px\"viewBox=\"0 0 24 24\"\n",
              "       width=\"24px\">\n",
              "    <path d=\"M0 0h24v24H0V0z\" fill=\"none\"/>\n",
              "    <path d=\"M18.56 5.44l.94 2.06.94-2.06 2.06-.94-2.06-.94-.94-2.06-.94 2.06-2.06.94zm-11 1L8.5 8.5l.94-2.06 2.06-.94-2.06-.94L8.5 2.5l-.94 2.06-2.06.94zm10 10l.94 2.06.94-2.06 2.06-.94-2.06-.94-.94-2.06-.94 2.06-2.06.94z\"/><path d=\"M17.41 7.96l-1.37-1.37c-.4-.4-.92-.59-1.43-.59-.52 0-1.04.2-1.43.59L10.3 9.45l-7.72 7.72c-.78.78-.78 2.05 0 2.83L4 21.41c.39.39.9.59 1.41.59.51 0 1.02-.2 1.41-.59l7.78-7.78 2.81-2.81c.8-.78.8-2.07 0-2.86zM5.41 20L4 18.59l7.72-7.72 1.47 1.35L5.41 20z\"/>\n",
              "  </svg>\n",
              "      </button>\n",
              "      \n",
              "  <style>\n",
              "    .colab-df-container {\n",
              "      display:flex;\n",
              "      flex-wrap:wrap;\n",
              "      gap: 12px;\n",
              "    }\n",
              "\n",
              "    .colab-df-convert {\n",
              "      background-color: #E8F0FE;\n",
              "      border: none;\n",
              "      border-radius: 50%;\n",
              "      cursor: pointer;\n",
              "      display: none;\n",
              "      fill: #1967D2;\n",
              "      height: 32px;\n",
              "      padding: 0 0 0 0;\n",
              "      width: 32px;\n",
              "    }\n",
              "\n",
              "    .colab-df-convert:hover {\n",
              "      background-color: #E2EBFA;\n",
              "      box-shadow: 0px 1px 2px rgba(60, 64, 67, 0.3), 0px 1px 3px 1px rgba(60, 64, 67, 0.15);\n",
              "      fill: #174EA6;\n",
              "    }\n",
              "\n",
              "    [theme=dark] .colab-df-convert {\n",
              "      background-color: #3B4455;\n",
              "      fill: #D2E3FC;\n",
              "    }\n",
              "\n",
              "    [theme=dark] .colab-df-convert:hover {\n",
              "      background-color: #434B5C;\n",
              "      box-shadow: 0px 1px 3px 1px rgba(0, 0, 0, 0.15);\n",
              "      filter: drop-shadow(0px 1px 2px rgba(0, 0, 0, 0.3));\n",
              "      fill: #FFFFFF;\n",
              "    }\n",
              "  </style>\n",
              "\n",
              "      <script>\n",
              "        const buttonEl =\n",
              "          document.querySelector('#df-6a0dc391-0469-4c6a-82f2-2474d5cd1649 button.colab-df-convert');\n",
              "        buttonEl.style.display =\n",
              "          google.colab.kernel.accessAllowed ? 'block' : 'none';\n",
              "\n",
              "        async function convertToInteractive(key) {\n",
              "          const element = document.querySelector('#df-6a0dc391-0469-4c6a-82f2-2474d5cd1649');\n",
              "          const dataTable =\n",
              "            await google.colab.kernel.invokeFunction('convertToInteractive',\n",
              "                                                     [key], {});\n",
              "          if (!dataTable) return;\n",
              "\n",
              "          const docLinkHtml = 'Like what you see? Visit the ' +\n",
              "            '<a target=\"_blank\" href=https://colab.research.google.com/notebooks/data_table.ipynb>data table notebook</a>'\n",
              "            + ' to learn more about interactive tables.';\n",
              "          element.innerHTML = '';\n",
              "          dataTable['output_type'] = 'display_data';\n",
              "          await google.colab.output.renderOutput(dataTable, element);\n",
              "          const docLink = document.createElement('div');\n",
              "          docLink.innerHTML = docLinkHtml;\n",
              "          element.appendChild(docLink);\n",
              "        }\n",
              "      </script>\n",
              "    </div>\n",
              "  </div>\n",
              "  "
            ]
          },
          "metadata": {},
          "execution_count": 20
        }
      ]
    },
    {
      "cell_type": "code",
      "source": [
        "df1=pd.concat([df['Price'],dummy],axis=1)"
      ],
      "metadata": {
        "id": "HALStCOQJfdt"
      },
      "execution_count": 21,
      "outputs": []
    },
    {
      "cell_type": "code",
      "source": [
        "df1=df1.merge(dummy,left_index=True,right_index=True)\n",
        "df1.head()"
      ],
      "metadata": {
        "id": "GrUbXEpKLjYQ",
        "colab": {
          "base_uri": "https://localhost:8080/",
          "height": 317
        },
        "outputId": "6d7cf8a3-0007-4caa-fcd4-17260df9a5d8"
      },
      "execution_count": 22,
      "outputs": [
        {
          "output_type": "execute_result",
          "data": {
            "text/plain": [
              "          Price  Make_Buick_x  Make_Cadillac_x  Make_Chevrolet_x  \\\n",
              "0  17314.103129             1                0                 0   \n",
              "1  17542.036083             1                0                 0   \n",
              "2  16218.847862             1                0                 0   \n",
              "3  16336.913140             1                0                 0   \n",
              "4  16339.170324             1                0                 0   \n",
              "\n",
              "   Make_Pontiac_x  Make_SAAB_x  Make_Saturn_x  Model_9-2X AWD_x  Model_9_3_x  \\\n",
              "0               0            0              0                 0            0   \n",
              "1               0            0              0                 0            0   \n",
              "2               0            0              0                 0            0   \n",
              "3               0            0              0                 0            0   \n",
              "4               0            0              0                 0            0   \n",
              "\n",
              "   Model_9_3 HO_x  ...  Model_STS-V6_y  Model_STS-V8_y  Model_Sunfire_y  \\\n",
              "0               0  ...               0               0                0   \n",
              "1               0  ...               0               0                0   \n",
              "2               0  ...               0               0                0   \n",
              "3               0  ...               0               0                0   \n",
              "4               0  ...               0               0                0   \n",
              "\n",
              "   Model_Vibe_y  Model_XLR-V8_y  Type_Convertible_y  Type_Coupe_y  \\\n",
              "0             0               0                   0             0   \n",
              "1             0               0                   0             0   \n",
              "2             0               0                   0             0   \n",
              "3             0               0                   0             0   \n",
              "4             0               0                   0             0   \n",
              "\n",
              "   Type_Hatchback_y  Type_Sedan_y  Type_Wagon_y  \n",
              "0                 0             1             0  \n",
              "1                 0             1             0  \n",
              "2                 0             1             0  \n",
              "3                 0             1             0  \n",
              "4                 0             1             0  \n",
              "\n",
              "[5 rows x 87 columns]"
            ],
            "text/html": [
              "\n",
              "  <div id=\"df-b3bfa00a-4dfb-4b42-b734-1dceb45ec7d2\">\n",
              "    <div class=\"colab-df-container\">\n",
              "      <div>\n",
              "<style scoped>\n",
              "    .dataframe tbody tr th:only-of-type {\n",
              "        vertical-align: middle;\n",
              "    }\n",
              "\n",
              "    .dataframe tbody tr th {\n",
              "        vertical-align: top;\n",
              "    }\n",
              "\n",
              "    .dataframe thead th {\n",
              "        text-align: right;\n",
              "    }\n",
              "</style>\n",
              "<table border=\"1\" class=\"dataframe\">\n",
              "  <thead>\n",
              "    <tr style=\"text-align: right;\">\n",
              "      <th></th>\n",
              "      <th>Price</th>\n",
              "      <th>Make_Buick_x</th>\n",
              "      <th>Make_Cadillac_x</th>\n",
              "      <th>Make_Chevrolet_x</th>\n",
              "      <th>Make_Pontiac_x</th>\n",
              "      <th>Make_SAAB_x</th>\n",
              "      <th>Make_Saturn_x</th>\n",
              "      <th>Model_9-2X AWD_x</th>\n",
              "      <th>Model_9_3_x</th>\n",
              "      <th>Model_9_3 HO_x</th>\n",
              "      <th>...</th>\n",
              "      <th>Model_STS-V6_y</th>\n",
              "      <th>Model_STS-V8_y</th>\n",
              "      <th>Model_Sunfire_y</th>\n",
              "      <th>Model_Vibe_y</th>\n",
              "      <th>Model_XLR-V8_y</th>\n",
              "      <th>Type_Convertible_y</th>\n",
              "      <th>Type_Coupe_y</th>\n",
              "      <th>Type_Hatchback_y</th>\n",
              "      <th>Type_Sedan_y</th>\n",
              "      <th>Type_Wagon_y</th>\n",
              "    </tr>\n",
              "  </thead>\n",
              "  <tbody>\n",
              "    <tr>\n",
              "      <th>0</th>\n",
              "      <td>17314.103129</td>\n",
              "      <td>1</td>\n",
              "      <td>0</td>\n",
              "      <td>0</td>\n",
              "      <td>0</td>\n",
              "      <td>0</td>\n",
              "      <td>0</td>\n",
              "      <td>0</td>\n",
              "      <td>0</td>\n",
              "      <td>0</td>\n",
              "      <td>...</td>\n",
              "      <td>0</td>\n",
              "      <td>0</td>\n",
              "      <td>0</td>\n",
              "      <td>0</td>\n",
              "      <td>0</td>\n",
              "      <td>0</td>\n",
              "      <td>0</td>\n",
              "      <td>0</td>\n",
              "      <td>1</td>\n",
              "      <td>0</td>\n",
              "    </tr>\n",
              "    <tr>\n",
              "      <th>1</th>\n",
              "      <td>17542.036083</td>\n",
              "      <td>1</td>\n",
              "      <td>0</td>\n",
              "      <td>0</td>\n",
              "      <td>0</td>\n",
              "      <td>0</td>\n",
              "      <td>0</td>\n",
              "      <td>0</td>\n",
              "      <td>0</td>\n",
              "      <td>0</td>\n",
              "      <td>...</td>\n",
              "      <td>0</td>\n",
              "      <td>0</td>\n",
              "      <td>0</td>\n",
              "      <td>0</td>\n",
              "      <td>0</td>\n",
              "      <td>0</td>\n",
              "      <td>0</td>\n",
              "      <td>0</td>\n",
              "      <td>1</td>\n",
              "      <td>0</td>\n",
              "    </tr>\n",
              "    <tr>\n",
              "      <th>2</th>\n",
              "      <td>16218.847862</td>\n",
              "      <td>1</td>\n",
              "      <td>0</td>\n",
              "      <td>0</td>\n",
              "      <td>0</td>\n",
              "      <td>0</td>\n",
              "      <td>0</td>\n",
              "      <td>0</td>\n",
              "      <td>0</td>\n",
              "      <td>0</td>\n",
              "      <td>...</td>\n",
              "      <td>0</td>\n",
              "      <td>0</td>\n",
              "      <td>0</td>\n",
              "      <td>0</td>\n",
              "      <td>0</td>\n",
              "      <td>0</td>\n",
              "      <td>0</td>\n",
              "      <td>0</td>\n",
              "      <td>1</td>\n",
              "      <td>0</td>\n",
              "    </tr>\n",
              "    <tr>\n",
              "      <th>3</th>\n",
              "      <td>16336.913140</td>\n",
              "      <td>1</td>\n",
              "      <td>0</td>\n",
              "      <td>0</td>\n",
              "      <td>0</td>\n",
              "      <td>0</td>\n",
              "      <td>0</td>\n",
              "      <td>0</td>\n",
              "      <td>0</td>\n",
              "      <td>0</td>\n",
              "      <td>...</td>\n",
              "      <td>0</td>\n",
              "      <td>0</td>\n",
              "      <td>0</td>\n",
              "      <td>0</td>\n",
              "      <td>0</td>\n",
              "      <td>0</td>\n",
              "      <td>0</td>\n",
              "      <td>0</td>\n",
              "      <td>1</td>\n",
              "      <td>0</td>\n",
              "    </tr>\n",
              "    <tr>\n",
              "      <th>4</th>\n",
              "      <td>16339.170324</td>\n",
              "      <td>1</td>\n",
              "      <td>0</td>\n",
              "      <td>0</td>\n",
              "      <td>0</td>\n",
              "      <td>0</td>\n",
              "      <td>0</td>\n",
              "      <td>0</td>\n",
              "      <td>0</td>\n",
              "      <td>0</td>\n",
              "      <td>...</td>\n",
              "      <td>0</td>\n",
              "      <td>0</td>\n",
              "      <td>0</td>\n",
              "      <td>0</td>\n",
              "      <td>0</td>\n",
              "      <td>0</td>\n",
              "      <td>0</td>\n",
              "      <td>0</td>\n",
              "      <td>1</td>\n",
              "      <td>0</td>\n",
              "    </tr>\n",
              "  </tbody>\n",
              "</table>\n",
              "<p>5 rows × 87 columns</p>\n",
              "</div>\n",
              "      <button class=\"colab-df-convert\" onclick=\"convertToInteractive('df-b3bfa00a-4dfb-4b42-b734-1dceb45ec7d2')\"\n",
              "              title=\"Convert this dataframe to an interactive table.\"\n",
              "              style=\"display:none;\">\n",
              "        \n",
              "  <svg xmlns=\"http://www.w3.org/2000/svg\" height=\"24px\"viewBox=\"0 0 24 24\"\n",
              "       width=\"24px\">\n",
              "    <path d=\"M0 0h24v24H0V0z\" fill=\"none\"/>\n",
              "    <path d=\"M18.56 5.44l.94 2.06.94-2.06 2.06-.94-2.06-.94-.94-2.06-.94 2.06-2.06.94zm-11 1L8.5 8.5l.94-2.06 2.06-.94-2.06-.94L8.5 2.5l-.94 2.06-2.06.94zm10 10l.94 2.06.94-2.06 2.06-.94-2.06-.94-.94-2.06-.94 2.06-2.06.94z\"/><path d=\"M17.41 7.96l-1.37-1.37c-.4-.4-.92-.59-1.43-.59-.52 0-1.04.2-1.43.59L10.3 9.45l-7.72 7.72c-.78.78-.78 2.05 0 2.83L4 21.41c.39.39.9.59 1.41.59.51 0 1.02-.2 1.41-.59l7.78-7.78 2.81-2.81c.8-.78.8-2.07 0-2.86zM5.41 20L4 18.59l7.72-7.72 1.47 1.35L5.41 20z\"/>\n",
              "  </svg>\n",
              "      </button>\n",
              "      \n",
              "  <style>\n",
              "    .colab-df-container {\n",
              "      display:flex;\n",
              "      flex-wrap:wrap;\n",
              "      gap: 12px;\n",
              "    }\n",
              "\n",
              "    .colab-df-convert {\n",
              "      background-color: #E8F0FE;\n",
              "      border: none;\n",
              "      border-radius: 50%;\n",
              "      cursor: pointer;\n",
              "      display: none;\n",
              "      fill: #1967D2;\n",
              "      height: 32px;\n",
              "      padding: 0 0 0 0;\n",
              "      width: 32px;\n",
              "    }\n",
              "\n",
              "    .colab-df-convert:hover {\n",
              "      background-color: #E2EBFA;\n",
              "      box-shadow: 0px 1px 2px rgba(60, 64, 67, 0.3), 0px 1px 3px 1px rgba(60, 64, 67, 0.15);\n",
              "      fill: #174EA6;\n",
              "    }\n",
              "\n",
              "    [theme=dark] .colab-df-convert {\n",
              "      background-color: #3B4455;\n",
              "      fill: #D2E3FC;\n",
              "    }\n",
              "\n",
              "    [theme=dark] .colab-df-convert:hover {\n",
              "      background-color: #434B5C;\n",
              "      box-shadow: 0px 1px 3px 1px rgba(0, 0, 0, 0.15);\n",
              "      filter: drop-shadow(0px 1px 2px rgba(0, 0, 0, 0.3));\n",
              "      fill: #FFFFFF;\n",
              "    }\n",
              "  </style>\n",
              "\n",
              "      <script>\n",
              "        const buttonEl =\n",
              "          document.querySelector('#df-b3bfa00a-4dfb-4b42-b734-1dceb45ec7d2 button.colab-df-convert');\n",
              "        buttonEl.style.display =\n",
              "          google.colab.kernel.accessAllowed ? 'block' : 'none';\n",
              "\n",
              "        async function convertToInteractive(key) {\n",
              "          const element = document.querySelector('#df-b3bfa00a-4dfb-4b42-b734-1dceb45ec7d2');\n",
              "          const dataTable =\n",
              "            await google.colab.kernel.invokeFunction('convertToInteractive',\n",
              "                                                     [key], {});\n",
              "          if (!dataTable) return;\n",
              "\n",
              "          const docLinkHtml = 'Like what you see? Visit the ' +\n",
              "            '<a target=\"_blank\" href=https://colab.research.google.com/notebooks/data_table.ipynb>data table notebook</a>'\n",
              "            + ' to learn more about interactive tables.';\n",
              "          element.innerHTML = '';\n",
              "          dataTable['output_type'] = 'display_data';\n",
              "          await google.colab.output.renderOutput(dataTable, element);\n",
              "          const docLink = document.createElement('div');\n",
              "          docLink.innerHTML = docLinkHtml;\n",
              "          element.appendChild(docLink);\n",
              "        }\n",
              "      </script>\n",
              "    </div>\n",
              "  </div>\n",
              "  "
            ]
          },
          "metadata": {},
          "execution_count": 22
        }
      ]
    },
    {
      "cell_type": "code",
      "source": [
        "#model score using Dummy variables \n",
        "\n",
        "x=df1.drop(columns='Price')\n",
        "y=df['Price']\n",
        "x_train,x_test,y_train,y_test = train_test_split(x,y,test_size=0.2,random_state=2)\n",
        "model = LinearRegression().fit(x_train, y_train)\n",
        "score=model.score(x,y)*100\n",
        "score"
      ],
      "metadata": {
        "id": "7ejAXD3lSqOu",
        "outputId": "809a14b6-a8ef-4e4d-aaeb-8053c946fd7a",
        "colab": {
          "base_uri": "https://localhost:8080/"
        }
      },
      "execution_count": 23,
      "outputs": [
        {
          "output_type": "execute_result",
          "data": {
            "text/plain": [
              "95.77481436708266"
            ]
          },
          "metadata": {},
          "execution_count": 23
        }
      ]
    },
    {
      "cell_type": "markdown",
      "source": [
        "2. Find the best combination of factors to predict price."
      ],
      "metadata": {
        "id": "TdklPcoT8RDx"
      }
    },
    {
      "cell_type": "code",
      "source": [
        "from sklearn.model_selection import train_test_split\n",
        "x=df1.drop(columns='Price').columns\n",
        "for i in range(len(x)):\n",
        "  x1=df1[[x[i]]]\n",
        "  y1=df1[\"Price\"]\n",
        "  x_train,x_test,y_train,y_test = train_test_split(x1,y1,test_size=0.2,random_state=2)\n",
        "  model = LinearRegression().fit(x_train, y_train)\n",
        "  score=model.score(x1,y1)*100\n",
        "  print(f\"The model score for {x[i]} is : \\t\",score)"
      ],
      "metadata": {
        "id": "FJV83wYe8S98",
        "colab": {
          "base_uri": "https://localhost:8080/"
        },
        "outputId": "8fa5a99b-104e-46bd-b6e8-ad1e7ffed43f"
      },
      "execution_count": 24,
      "outputs": [
        {
          "output_type": "stream",
          "name": "stdout",
          "text": [
            "The model score for Make_Buick_x is : \t -0.014289837098679925\n",
            "The model score for Make_Cadillac_x is : \t 43.45356622371723\n",
            "The model score for Make_Chevrolet_x is : \t 16.31001842287678\n",
            "The model score for Make_Pontiac_x is : \t 1.992595304923117\n",
            "The model score for Make_SAAB_x is : \t 11.211066998082686\n",
            "The model score for Make_Saturn_x is : \t 4.44567394465305\n",
            "The model score for Model_9-2X AWD_x is : \t 0.029106301008352542\n",
            "The model score for Model_9_3_x is : \t 1.5180818065350543\n",
            "The model score for Model_9_3 HO_x is : \t 4.404975497805996\n",
            "The model score for Model_9_5_x is : \t 2.949184575283681\n",
            "The model score for Model_9_5 HO_x is : \t 1.184663453300594\n",
            "The model score for Model_AVEO_x is : \t 9.236729413464529\n",
            "The model score for Model_Bonneville_x is : \t -0.02905810061002434\n",
            "The model score for Model_CST-V_x is : \t 7.200168203484969\n",
            "The model score for Model_CTS_x is : \t 1.042237345630459\n",
            "The model score for Model_Cavalier_x is : \t 5.890127803288204\n",
            "The model score for Model_Century_x is : \t 0.3345959629928008\n",
            "The model score for Model_Classic_x is : \t 0.7428972068060813\n",
            "The model score for Model_Cobalt_x is : \t 3.6738971565715706\n",
            "The model score for Model_Corvette_x is : \t 8.27602032422493\n",
            "The model score for Model_Deville_x is : \t 8.784724200724991\n",
            "The model score for Model_G6_x is : \t 0.038804359611677164\n",
            "The model score for Model_GTO_x is : \t 0.7562827678276651\n",
            "The model score for Model_Grand Am_x is : \t 0.8391498225480798\n",
            "The model score for Model_Grand Prix_x is : \t 0.4397919196101441\n",
            "The model score for Model_Impala_x is : \t 0.03916117293945032\n",
            "The model score for Model_Ion_x is : \t 4.1815462142413935\n",
            "The model score for Model_L Series_x is : \t 0.26193539684356004\n",
            "The model score for Model_Lacrosse_x is : \t -0.0325228717708681\n",
            "The model score for Model_Lesabre_x is : \t 0.03627277789503003\n",
            "The model score for Model_Malibu_x is : \t 1.4027460203316688\n",
            "The model score for Model_Monte Carlo_x is : \t 0.0519912248521881\n",
            "The model score for Model_Park Avenue_x is : \t 0.14870172060719167\n",
            "The model score for Model_STS-V6_x is : \t 3.291276695399681\n",
            "The model score for Model_STS-V8_x is : \t 5.954806493323151\n",
            "The model score for Model_Sunfire_x is : \t 0.9655170057663032\n",
            "The model score for Model_Vibe_x is : \t 1.1371087654297618\n",
            "The model score for Model_XLR-V8_x is : \t 22.30912015888914\n",
            "The model score for Type_Convertible_x is : \t 25.78661952143102\n",
            "The model score for Type_Coupe_x is : \t 2.773387334802635\n",
            "The model score for Type_Hatchback_x is : \t 4.211712246726195\n",
            "The model score for Type_Sedan_x is : \t 0.0666176281797104\n",
            "The model score for Type_Wagon_x is : \t 0.07012625112898796\n",
            "The model score for Make_Buick_y is : \t -0.014289837098679925\n",
            "The model score for Make_Cadillac_y is : \t 43.45356622371723\n",
            "The model score for Make_Chevrolet_y is : \t 16.31001842287678\n",
            "The model score for Make_Pontiac_y is : \t 1.992595304923117\n",
            "The model score for Make_SAAB_y is : \t 11.211066998082686\n",
            "The model score for Make_Saturn_y is : \t 4.44567394465305\n",
            "The model score for Model_9-2X AWD_y is : \t 0.029106301008352542\n",
            "The model score for Model_9_3_y is : \t 1.5180818065350543\n",
            "The model score for Model_9_3 HO_y is : \t 4.404975497805996\n",
            "The model score for Model_9_5_y is : \t 2.949184575283681\n",
            "The model score for Model_9_5 HO_y is : \t 1.184663453300594\n",
            "The model score for Model_AVEO_y is : \t 9.236729413464529\n",
            "The model score for Model_Bonneville_y is : \t -0.02905810061002434\n",
            "The model score for Model_CST-V_y is : \t 7.200168203484969\n",
            "The model score for Model_CTS_y is : \t 1.042237345630459\n",
            "The model score for Model_Cavalier_y is : \t 5.890127803288204\n",
            "The model score for Model_Century_y is : \t 0.3345959629928008\n",
            "The model score for Model_Classic_y is : \t 0.7428972068060813\n",
            "The model score for Model_Cobalt_y is : \t 3.6738971565715706\n",
            "The model score for Model_Corvette_y is : \t 8.27602032422493\n",
            "The model score for Model_Deville_y is : \t 8.784724200724991\n",
            "The model score for Model_G6_y is : \t 0.038804359611677164\n",
            "The model score for Model_GTO_y is : \t 0.7562827678276651\n",
            "The model score for Model_Grand Am_y is : \t 0.8391498225480798\n",
            "The model score for Model_Grand Prix_y is : \t 0.4397919196101441\n",
            "The model score for Model_Impala_y is : \t 0.03916117293945032\n",
            "The model score for Model_Ion_y is : \t 4.1815462142413935\n",
            "The model score for Model_L Series_y is : \t 0.26193539684356004\n",
            "The model score for Model_Lacrosse_y is : \t -0.0325228717708681\n",
            "The model score for Model_Lesabre_y is : \t 0.03627277789503003\n",
            "The model score for Model_Malibu_y is : \t 1.4027460203316688\n",
            "The model score for Model_Monte Carlo_y is : \t 0.0519912248521881\n",
            "The model score for Model_Park Avenue_y is : \t 0.14870172060719167\n",
            "The model score for Model_STS-V6_y is : \t 3.291276695399681\n",
            "The model score for Model_STS-V8_y is : \t 5.954806493323151\n",
            "The model score for Model_Sunfire_y is : \t 0.9655170057663032\n",
            "The model score for Model_Vibe_y is : \t 1.1371087654297618\n",
            "The model score for Model_XLR-V8_y is : \t 22.30912015888914\n",
            "The model score for Type_Convertible_y is : \t 25.78661952143102\n",
            "The model score for Type_Coupe_y is : \t 2.773387334802635\n",
            "The model score for Type_Hatchback_y is : \t 4.211712246726195\n",
            "The model score for Type_Sedan_y is : \t 0.0666176281797104\n",
            "The model score for Type_Wagon_y is : \t 0.07012625112898796\n"
          ]
        }
      ]
    },
    {
      "cell_type": "markdown",
      "source": [
        "- Best factors to predict the price are as : "
      ],
      "metadata": {
        "id": "-JIOrgCAU8Wx"
      }
    },
    {
      "cell_type": "markdown",
      "source": [
        "Make_Cadillac_x, Make_Cadillac_y, Type_Convertible_x, Type_Convertible_y, Model_XLR-V8_y, "
      ],
      "metadata": {
        "id": "rw9myCC2VnBW"
      }
    }
  ],
  "metadata": {
    "kernelspec": {
      "display_name": "Python 3",
      "language": "python",
      "name": "python3"
    },
    "language_info": {
      "codemirror_mode": {
        "name": "ipython",
        "version": 3
      },
      "file_extension": ".py",
      "mimetype": "text/x-python",
      "name": "python",
      "nbconvert_exporter": "python",
      "pygments_lexer": "ipython3",
      "version": "3.8.3"
    },
    "colab": {
      "name": "Assignment8.ipynb",
      "provenance": []
    }
  },
  "nbformat": 4,
  "nbformat_minor": 0
}